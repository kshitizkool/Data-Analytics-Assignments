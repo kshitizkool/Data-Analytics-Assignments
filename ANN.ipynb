{
  "nbformat": 4,
  "nbformat_minor": 0,
  "metadata": {
    "colab": {
      "provenance": [],
      "authorship_tag": "ABX9TyOxdvaZMfQdPVSEEDIHHLJU",
      "include_colab_link": true
    },
    "kernelspec": {
      "name": "python3",
      "display_name": "Python 3"
    },
    "language_info": {
      "name": "python"
    }
  },
  "cells": [
    {
      "cell_type": "markdown",
      "metadata": {
        "id": "view-in-github",
        "colab_type": "text"
      },
      "source": [
        "<a href=\"https://colab.research.google.com/github/kshitizkool/Data-Analytics-Assignments/blob/main/ANN.ipynb\" target=\"_parent\"><img src=\"https://colab.research.google.com/assets/colab-badge.svg\" alt=\"Open In Colab\"/></a>"
      ]
    },
    {
      "cell_type": "code",
      "execution_count": 1,
      "metadata": {
        "id": "FC1Ue4zh2IXL"
      },
      "outputs": [],
      "source": [
        "import numpy as np\n",
        "import matplotlib.pyplot as plt\n",
        "import pandas as pd\n",
        "\n"
      ]
    },
    {
      "cell_type": "code",
      "source": [
        "# Importing the dataset\n",
        "dataset = pd.read_csv('Churn_Modelling.csv')\n",
        "X = dataset.iloc[:, 3:13]\n",
        "y = dataset.iloc[:, 13]"
      ],
      "metadata": {
        "id": "At4_sXow2SiG"
      },
      "execution_count": 2,
      "outputs": []
    },
    {
      "cell_type": "code",
      "source": [
        "#Create dummy variables\n",
        "geography=pd.get_dummies(X[\"Geography\"],drop_first=True)\n",
        "gender=pd.get_dummies(X['Gender'],drop_first=True)\n"
      ],
      "metadata": {
        "id": "8tCHrueO2YWy"
      },
      "execution_count": 3,
      "outputs": []
    },
    {
      "cell_type": "code",
      "source": [
        "\n",
        "## Concatenate the Data Frames\n",
        "\n",
        "X=pd.concat([X,geography,gender],axis=1)\n",
        "\n",
        "## Drop Unnecessary columns\n",
        "X=X.drop(['Geography','Gender'],axis=1)\n",
        "\n",
        "# Splitting the dataset into the Training set and Test set\n",
        "from sklearn.model_selection import train_test_split\n",
        "X_train, X_test, y_train, y_test = train_test_split(X, y, test_size = 0.2, random_state = 0)\n",
        "\n",
        "# Feature Scaling\n",
        "from sklearn.preprocessing import StandardScaler\n",
        "sc = StandardScaler()\n",
        "X_train = sc.fit_transform(X_train)\n",
        "X_test = sc.transform(X_test)\n",
        "\n",
        "# Part 2 - Now let's make the ANN!\n",
        "\n",
        "# Importing the Keras libraries and packages\n",
        "import keras\n",
        "from keras.models import Sequential\n",
        "from keras.layers import Dense\n",
        "from keras.layers import LeakyReLU,PReLU,ELU\n",
        "from keras.layers import Dropout\n",
        "\n",
        "\n",
        "# Initialising the ANN\n",
        "classifier = Sequential()\n",
        "\n"
      ],
      "metadata": {
        "id": "wJ5sJYjz2co5"
      },
      "execution_count": 4,
      "outputs": []
    },
    {
      "cell_type": "code",
      "source": [
        "classifier.add(Dense(6,activation='relu',input_dim = 11))\n",
        "\n",
        "# Adding the second hidden layer\n",
        "classifier.add(Dense(6, activation='relu'))\n",
        "# Adding the output layer\n",
        "classifier.add(Dense(1, activation = 'sigmoid'))\n",
        "\n",
        "# Compiling the ANN\n",
        "classifier.compile(optimizer = 'Adamax', loss = 'binary_crossentropy', metrics = ['accuracy'])\n",
        "\n",
        "# Fitting the ANN to the Training set\n",
        "model_history=classifier.fit(X_train, y_train,validation_split=0.33, batch_size = 10, epochs = 100)"
      ],
      "metadata": {
        "colab": {
          "base_uri": "https://localhost:8080/"
        },
        "id": "bqbI42LL2miC",
        "outputId": "d2cf1588-d00d-4943-cd56-41dd4ec01579"
      },
      "execution_count": null,
      "outputs": [
        {
          "output_type": "stream",
          "name": "stdout",
          "text": [
            "Epoch 1/100\n",
            "536/536 [==============================] - 5s 4ms/step - loss: 0.5810 - accuracy: 0.7962 - val_loss: 0.5170 - val_accuracy: 0.7955\n",
            "Epoch 2/100\n",
            "536/536 [==============================] - 2s 4ms/step - loss: 0.5079 - accuracy: 0.7962 - val_loss: 0.5060 - val_accuracy: 0.7955\n",
            "Epoch 3/100\n",
            "536/536 [==============================] - 2s 3ms/step - loss: 0.5042 - accuracy: 0.7962 - val_loss: 0.5039 - val_accuracy: 0.7955\n",
            "Epoch 4/100\n",
            "536/536 [==============================] - 2s 3ms/step - loss: 0.5015 - accuracy: 0.7962 - val_loss: 0.5004 - val_accuracy: 0.7955\n",
            "Epoch 5/100\n",
            "536/536 [==============================] - 1s 3ms/step - loss: 0.4967 - accuracy: 0.7962 - val_loss: 0.4946 - val_accuracy: 0.7955\n",
            "Epoch 6/100\n",
            "536/536 [==============================] - 2s 3ms/step - loss: 0.4897 - accuracy: 0.7962 - val_loss: 0.4858 - val_accuracy: 0.7955\n",
            "Epoch 7/100\n",
            "536/536 [==============================] - 1s 3ms/step - loss: 0.4800 - accuracy: 0.7962 - val_loss: 0.4763 - val_accuracy: 0.7955\n",
            "Epoch 8/100\n",
            "536/536 [==============================] - 1s 3ms/step - loss: 0.4704 - accuracy: 0.7962 - val_loss: 0.4669 - val_accuracy: 0.7955\n",
            "Epoch 9/100\n",
            "536/536 [==============================] - 2s 4ms/step - loss: 0.4621 - accuracy: 0.7962 - val_loss: 0.4591 - val_accuracy: 0.7955\n",
            "Epoch 10/100\n",
            "536/536 [==============================] - 2s 4ms/step - loss: 0.4547 - accuracy: 0.7962 - val_loss: 0.4521 - val_accuracy: 0.7955\n",
            "Epoch 11/100\n",
            "536/536 [==============================] - 2s 3ms/step - loss: 0.4479 - accuracy: 0.7962 - val_loss: 0.4467 - val_accuracy: 0.7955\n",
            "Epoch 12/100\n",
            "536/536 [==============================] - 2s 3ms/step - loss: 0.4431 - accuracy: 0.7962 - val_loss: 0.4432 - val_accuracy: 0.7955\n",
            "Epoch 13/100\n",
            "536/536 [==============================] - 2s 3ms/step - loss: 0.4393 - accuracy: 0.7962 - val_loss: 0.4408 - val_accuracy: 0.7955\n",
            "Epoch 14/100\n",
            "536/536 [==============================] - 1s 3ms/step - loss: 0.4363 - accuracy: 0.7962 - val_loss: 0.4378 - val_accuracy: 0.7955\n",
            "Epoch 15/100\n",
            "536/536 [==============================] - 2s 3ms/step - loss: 0.4337 - accuracy: 0.7962 - val_loss: 0.4369 - val_accuracy: 0.7955\n",
            "Epoch 16/100\n",
            "536/536 [==============================] - 2s 4ms/step - loss: 0.4319 - accuracy: 0.7962 - val_loss: 0.4355 - val_accuracy: 0.7955\n",
            "Epoch 17/100\n",
            "536/536 [==============================] - 2s 4ms/step - loss: 0.4307 - accuracy: 0.7962 - val_loss: 0.4345 - val_accuracy: 0.7955\n",
            "Epoch 18/100\n",
            "536/536 [==============================] - 1s 3ms/step - loss: 0.4294 - accuracy: 0.7962 - val_loss: 0.4341 - val_accuracy: 0.7955\n",
            "Epoch 19/100\n",
            "536/536 [==============================] - 1s 3ms/step - loss: 0.4285 - accuracy: 0.7962 - val_loss: 0.4331 - val_accuracy: 0.7955\n",
            "Epoch 20/100\n",
            "536/536 [==============================] - 1s 3ms/step - loss: 0.4276 - accuracy: 0.7962 - val_loss: 0.4327 - val_accuracy: 0.7955\n",
            "Epoch 21/100\n",
            "536/536 [==============================] - 2s 3ms/step - loss: 0.4265 - accuracy: 0.7962 - val_loss: 0.4322 - val_accuracy: 0.7955\n",
            "Epoch 22/100\n",
            "536/536 [==============================] - 2s 3ms/step - loss: 0.4258 - accuracy: 0.7979 - val_loss: 0.4318 - val_accuracy: 0.8073\n",
            "Epoch 23/100\n",
            "536/536 [==============================] - 2s 3ms/step - loss: 0.4251 - accuracy: 0.8033 - val_loss: 0.4314 - val_accuracy: 0.8107\n",
            "Epoch 24/100\n",
            "536/536 [==============================] - 2s 4ms/step - loss: 0.4242 - accuracy: 0.8149 - val_loss: 0.4314 - val_accuracy: 0.8073\n",
            "Epoch 25/100\n",
            "536/536 [==============================] - 2s 3ms/step - loss: 0.4234 - accuracy: 0.8177 - val_loss: 0.4307 - val_accuracy: 0.8058\n",
            "Epoch 26/100\n",
            "536/536 [==============================] - 2s 3ms/step - loss: 0.4226 - accuracy: 0.8179 - val_loss: 0.4309 - val_accuracy: 0.8076\n",
            "Epoch 27/100\n",
            "536/536 [==============================] - 1s 3ms/step - loss: 0.4218 - accuracy: 0.8196 - val_loss: 0.4299 - val_accuracy: 0.8073\n",
            "Epoch 28/100\n",
            "536/536 [==============================] - 1s 3ms/step - loss: 0.4206 - accuracy: 0.8216 - val_loss: 0.4295 - val_accuracy: 0.8073\n",
            "Epoch 29/100\n",
            "536/536 [==============================] - 1s 3ms/step - loss: 0.4198 - accuracy: 0.8209 - val_loss: 0.4289 - val_accuracy: 0.8111\n",
            "Epoch 30/100\n",
            "536/536 [==============================] - 2s 3ms/step - loss: 0.4184 - accuracy: 0.8220 - val_loss: 0.4285 - val_accuracy: 0.8069\n",
            "Epoch 31/100\n",
            "536/536 [==============================] - 2s 4ms/step - loss: 0.4172 - accuracy: 0.8238 - val_loss: 0.4281 - val_accuracy: 0.8092\n",
            "Epoch 32/100\n",
            "536/536 [==============================] - 2s 4ms/step - loss: 0.4163 - accuracy: 0.8244 - val_loss: 0.4280 - val_accuracy: 0.8107\n",
            "Epoch 33/100\n",
            "536/536 [==============================] - 2s 4ms/step - loss: 0.4158 - accuracy: 0.8229 - val_loss: 0.4272 - val_accuracy: 0.8122\n",
            "Epoch 34/100\n",
            "536/536 [==============================] - 1s 3ms/step - loss: 0.4150 - accuracy: 0.8242 - val_loss: 0.4269 - val_accuracy: 0.8126\n",
            "Epoch 35/100\n",
            "536/536 [==============================] - 2s 3ms/step - loss: 0.4145 - accuracy: 0.8248 - val_loss: 0.4264 - val_accuracy: 0.8141\n",
            "Epoch 36/100\n",
            "536/536 [==============================] - 1s 3ms/step - loss: 0.4137 - accuracy: 0.8257 - val_loss: 0.4260 - val_accuracy: 0.8137\n",
            "Epoch 37/100\n",
            "536/536 [==============================] - 2s 3ms/step - loss: 0.4132 - accuracy: 0.8253 - val_loss: 0.4260 - val_accuracy: 0.8141\n",
            "Epoch 38/100\n",
            "536/536 [==============================] - 2s 4ms/step - loss: 0.4122 - accuracy: 0.8270 - val_loss: 0.4252 - val_accuracy: 0.8145\n",
            "Epoch 39/100\n",
            "536/536 [==============================] - 2s 3ms/step - loss: 0.4116 - accuracy: 0.8276 - val_loss: 0.4249 - val_accuracy: 0.8137\n",
            "Epoch 40/100\n",
            "536/536 [==============================] - 2s 3ms/step - loss: 0.4116 - accuracy: 0.8263 - val_loss: 0.4243 - val_accuracy: 0.8156\n",
            "Epoch 41/100\n",
            "536/536 [==============================] - 1s 3ms/step - loss: 0.4107 - accuracy: 0.8272 - val_loss: 0.4241 - val_accuracy: 0.8148\n",
            "Epoch 42/100\n",
            "536/536 [==============================] - 1s 3ms/step - loss: 0.4106 - accuracy: 0.8289 - val_loss: 0.4240 - val_accuracy: 0.8148\n",
            "Epoch 43/100\n",
            "536/536 [==============================] - 1s 3ms/step - loss: 0.4102 - accuracy: 0.8302 - val_loss: 0.4235 - val_accuracy: 0.8183\n",
            "Epoch 44/100\n",
            "536/536 [==============================] - 2s 3ms/step - loss: 0.4096 - accuracy: 0.8281 - val_loss: 0.4234 - val_accuracy: 0.8167\n",
            "Epoch 45/100\n",
            "536/536 [==============================] - 2s 3ms/step - loss: 0.4091 - accuracy: 0.8304 - val_loss: 0.4233 - val_accuracy: 0.8186\n",
            "Epoch 46/100\n",
            "536/536 [==============================] - 2s 4ms/step - loss: 0.4087 - accuracy: 0.8285 - val_loss: 0.4232 - val_accuracy: 0.8186\n",
            "Epoch 47/100\n",
            "536/536 [==============================] - 1s 3ms/step - loss: 0.4086 - accuracy: 0.8266 - val_loss: 0.4230 - val_accuracy: 0.8186\n",
            "Epoch 48/100\n",
            "536/536 [==============================] - 1s 3ms/step - loss: 0.4081 - accuracy: 0.8302 - val_loss: 0.4237 - val_accuracy: 0.8179\n",
            "Epoch 49/100\n",
            "536/536 [==============================] - 1s 3ms/step - loss: 0.4074 - accuracy: 0.8293 - val_loss: 0.4228 - val_accuracy: 0.8186\n",
            "Epoch 50/100\n",
            "536/536 [==============================] - 1s 3ms/step - loss: 0.4074 - accuracy: 0.8296 - val_loss: 0.4222 - val_accuracy: 0.8175\n",
            "Epoch 51/100\n",
            "536/536 [==============================] - 1s 3ms/step - loss: 0.4074 - accuracy: 0.8309 - val_loss: 0.4216 - val_accuracy: 0.8183\n",
            "Epoch 52/100\n",
            "536/536 [==============================] - 2s 3ms/step - loss: 0.4069 - accuracy: 0.8289 - val_loss: 0.4218 - val_accuracy: 0.8186\n",
            "Epoch 53/100\n",
            "536/536 [==============================] - 2s 4ms/step - loss: 0.4065 - accuracy: 0.8309 - val_loss: 0.4215 - val_accuracy: 0.8194\n",
            "Epoch 54/100\n",
            "536/536 [==============================] - 2s 3ms/step - loss: 0.4064 - accuracy: 0.8313 - val_loss: 0.4215 - val_accuracy: 0.8194\n",
            "Epoch 55/100\n",
            "536/536 [==============================] - 2s 3ms/step - loss: 0.4055 - accuracy: 0.8302 - val_loss: 0.4233 - val_accuracy: 0.8190\n",
            "Epoch 56/100\n",
            "536/536 [==============================] - 1s 3ms/step - loss: 0.4058 - accuracy: 0.8319 - val_loss: 0.4213 - val_accuracy: 0.8190\n",
            "Epoch 57/100\n",
            "536/536 [==============================] - 1s 3ms/step - loss: 0.4057 - accuracy: 0.8324 - val_loss: 0.4209 - val_accuracy: 0.8194\n",
            "Epoch 58/100\n",
            "536/536 [==============================] - 1s 3ms/step - loss: 0.4050 - accuracy: 0.8319 - val_loss: 0.4207 - val_accuracy: 0.8190\n",
            "Epoch 59/100\n",
            "536/536 [==============================] - 1s 3ms/step - loss: 0.4047 - accuracy: 0.8328 - val_loss: 0.4207 - val_accuracy: 0.8201\n",
            "Epoch 60/100\n",
            "536/536 [==============================] - 1s 3ms/step - loss: 0.4043 - accuracy: 0.8317 - val_loss: 0.4208 - val_accuracy: 0.8186\n",
            "Epoch 61/100\n",
            "536/536 [==============================] - 2s 4ms/step - loss: 0.4039 - accuracy: 0.8334 - val_loss: 0.4206 - val_accuracy: 0.8201\n",
            "Epoch 62/100\n",
            "536/536 [==============================] - 2s 3ms/step - loss: 0.4039 - accuracy: 0.8332 - val_loss: 0.4213 - val_accuracy: 0.8201\n",
            "Epoch 63/100\n",
            "536/536 [==============================] - 2s 3ms/step - loss: 0.4036 - accuracy: 0.8317 - val_loss: 0.4207 - val_accuracy: 0.8205\n",
            "Epoch 64/100\n",
            "536/536 [==============================] - 2s 3ms/step - loss: 0.4032 - accuracy: 0.8341 - val_loss: 0.4205 - val_accuracy: 0.8198\n",
            "Epoch 65/100\n",
            "536/536 [==============================] - 1s 3ms/step - loss: 0.4031 - accuracy: 0.8332 - val_loss: 0.4206 - val_accuracy: 0.8198\n",
            "Epoch 66/100\n",
            "536/536 [==============================] - 2s 3ms/step - loss: 0.4031 - accuracy: 0.8339 - val_loss: 0.4194 - val_accuracy: 0.8217\n",
            "Epoch 67/100\n",
            "536/536 [==============================] - 2s 3ms/step - loss: 0.4026 - accuracy: 0.8336 - val_loss: 0.4192 - val_accuracy: 0.8224\n",
            "Epoch 68/100\n",
            "536/536 [==============================] - 2s 4ms/step - loss: 0.4022 - accuracy: 0.8343 - val_loss: 0.4192 - val_accuracy: 0.8213\n",
            "Epoch 69/100\n",
            "536/536 [==============================] - 2s 4ms/step - loss: 0.4023 - accuracy: 0.8343 - val_loss: 0.4192 - val_accuracy: 0.8224\n",
            "Epoch 70/100\n",
            "536/536 [==============================] - 2s 3ms/step - loss: 0.4019 - accuracy: 0.8343 - val_loss: 0.4196 - val_accuracy: 0.8201\n",
            "Epoch 71/100\n",
            "536/536 [==============================] - 2s 3ms/step - loss: 0.4015 - accuracy: 0.8345 - val_loss: 0.4187 - val_accuracy: 0.8232\n",
            "Epoch 72/100\n",
            "536/536 [==============================] - 2s 3ms/step - loss: 0.4011 - accuracy: 0.8358 - val_loss: 0.4189 - val_accuracy: 0.8220\n",
            "Epoch 73/100\n",
            "536/536 [==============================] - 2s 3ms/step - loss: 0.4007 - accuracy: 0.8375 - val_loss: 0.4198 - val_accuracy: 0.8217\n",
            "Epoch 74/100\n",
            "536/536 [==============================] - 2s 3ms/step - loss: 0.4009 - accuracy: 0.8352 - val_loss: 0.4186 - val_accuracy: 0.8220\n",
            "Epoch 75/100\n",
            "536/536 [==============================] - 1s 3ms/step - loss: 0.4006 - accuracy: 0.8367 - val_loss: 0.4187 - val_accuracy: 0.8209\n",
            "Epoch 76/100\n",
            "536/536 [==============================] - 2s 4ms/step - loss: 0.4003 - accuracy: 0.8356 - val_loss: 0.4187 - val_accuracy: 0.8239\n",
            "Epoch 77/100\n",
            "536/536 [==============================] - 2s 3ms/step - loss: 0.4001 - accuracy: 0.8378 - val_loss: 0.4181 - val_accuracy: 0.8232\n",
            "Epoch 78/100\n",
            "536/536 [==============================] - 2s 3ms/step - loss: 0.3997 - accuracy: 0.8371 - val_loss: 0.4176 - val_accuracy: 0.8251\n",
            "Epoch 79/100\n",
            "178/536 [========>.....................] - ETA: 0s - loss: 0.3813 - accuracy: 0.8466"
          ]
        }
      ]
    },
    {
      "cell_type": "code",
      "source": [
        "\n",
        "# list all data in history\n",
        "\n",
        "print(model_history.history.keys())\n",
        "# summarize history for accuracy\n",
        "plt.plot(model_history.history['acc'])\n",
        "plt.plot(model_history.history['val_acc'])\n",
        "plt.title('model accuracy')\n",
        "plt.ylabel('accuracy')\n",
        "plt.xlabel('epoch')\n",
        "plt.legend(['train', 'test'], loc='upper left')\n",
        "plt.show()\n"
      ],
      "metadata": {
        "id": "3GHWPCjf2irY"
      },
      "execution_count": null,
      "outputs": []
    },
    {
      "cell_type": "code",
      "source": [
        "\n",
        "# summarize history for loss\n",
        "plt.plot(model_history.history['loss'])\n",
        "plt.plot(model_history.history['val_loss'])\n",
        "plt.title('model loss')\n",
        "plt.ylabel('loss')\n",
        "plt.xlabel('epoch')\n",
        "plt.legend(['train', 'test'], loc='upper left')\n",
        "plt.show()\n"
      ],
      "metadata": {
        "colab": {
          "base_uri": "https://localhost:8080/",
          "height": 472
        },
        "id": "kFC1PAZ62gxN",
        "outputId": "996a1521-e152-49a3-c5e5-43824738ae7a"
      },
      "execution_count": 15,
      "outputs": [
        {
          "output_type": "display_data",
          "data": {
            "text/plain": [
              "<Figure size 640x480 with 1 Axes>"
            ],
            "image/png": "[encoded data removed]"
          },
          "metadata": {}
        }
      ]
    },
    {
      "cell_type": "code",
      "source": [
        "\n",
        "# Part 3 - Making the predictions and evaluating the model\n",
        "\n",
        "# Predicting the Test set results\n",
        "y_pred = classifier.predict(X_test)\n",
        "y_pred = (y_pred > 0.5)\n",
        "\n",
        "# Making the Confusion Matrix\n",
        "from sklearn.metrics import confusion_matrix\n",
        "cm = confusion_matrix(y_test, y_pred)\n",
        "\n",
        "# Calculate the Accuracy\n",
        "from sklearn.metrics import accuracy_score\n",
        "score=accuracy_score(y_pred,y_test)"
      ],
      "metadata": {
        "colab": {
          "base_uri": "https://localhost:8080/"
        },
        "id": "giQG6I6T2etP",
        "outputId": "7eaccf17-9eec-4c51-9585-954eed0eb18e"
      },
      "execution_count": 16,
      "outputs": [
        {
          "output_type": "stream",
          "name": "stdout",
          "text": [
            "63/63 [==============================] - 0s 1ms/step\n"
          ]
        }
      ]
    },
    {
      "cell_type": "code",
      "source": [
        "print(score)"
      ],
      "metadata": {
        "colab": {
          "base_uri": "https://localhost:8080/"
        },
        "id": "ndvM-Ae18GCD",
        "outputId": "b978cfd5-1df5-4e98-81de-4dda8975de11"
      },
      "execution_count": 17,
      "outputs": [
        {
          "output_type": "stream",
          "name": "stdout",
          "text": [
            "0.843\n"
          ]
        }
      ]
    }
  ]
}