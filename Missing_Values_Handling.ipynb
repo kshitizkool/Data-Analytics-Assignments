{
  "cells": [
    {
      "cell_type": "markdown",
      "metadata": {
        "id": "view-in-github",
        "colab_type": "text"
      },
      "source": [
        "<a href=\"https://colab.research.google.com/github/kshitizkool/Data-Analytics-Assignments/blob/main/Missing_Values_Handling.ipynb\" target=\"_parent\"><img src=\"https://colab.research.google.com/assets/colab-badge.svg\" alt=\"Open In Colab\"/></a>"
      ]
    },
    {
      "cell_type": "code",
      "execution_count": 1,
      "metadata": {
        "id": "u_p_g9aY1Bxw"
      },
      "outputs": [],
      "source": [
        "import numpy as np\n",
        "import os\n",
        "import pandas as pd\n"
      ]
    },
    {
      "cell_type": "code",
      "execution_count": 2,
      "metadata": {
        "colab": {
          "base_uri": "https://localhost:8080/"
        },
        "id": "EIB6Vk0h1Bxz",
        "outputId": "bc428f62-6475-4c6c-9e22-238bbe84ac0d"
      },
      "outputs": [
        {
          "output_type": "execute_result",
          "data": {
            "text/plain": [
              "['.config', 'gender_submission.csv', 'train.csv', 'test.csv', 'sample_data']"
            ]
          },
          "metadata": {},
          "execution_count": 2
        }
      ],
      "source": [
        "os.listdir('/content/')"
      ]
    },
    {
      "cell_type": "code",
      "execution_count": 3,
      "metadata": {
        "colab": {
          "base_uri": "https://localhost:8080/",
          "height": 423
        },
        "id": "--mEHOCH1Bx0",
        "outputId": "888b85f4-02d9-41e7-abf9-995446395e12"
      },
      "outputs": [
        {
          "output_type": "stream",
          "name": "stdout",
          "text": [
            "Training data shape:  (891, 12)\n",
            "Testing data shape:  (418, 11)\n"
          ]
        },
        {
          "output_type": "execute_result",
          "data": {
            "text/plain": [
              "   PassengerId  Survived  Pclass  \\\n",
              "0            1         0       3   \n",
              "1            2         1       1   \n",
              "2            3         1       3   \n",
              "3            4         1       1   \n",
              "4            5         0       3   \n",
              "\n",
              "                                                Name     Sex   Age  SibSp  \\\n",
              "0                            Braund, Mr. Owen Harris    male  22.0      1   \n",
              "1  Cumings, Mrs. John Bradley (Florence Briggs Th...  female  38.0      1   \n",
              "2                             Heikkinen, Miss. Laina  female  26.0      0   \n",
              "3       Futrelle, Mrs. Jacques Heath (Lily May Peel)  female  35.0      1   \n",
              "4                           Allen, Mr. William Henry    male  35.0      0   \n",
              "\n",
              "   Parch            Ticket     Fare Cabin Embarked  \n",
              "0      0         A/5 21171   7.2500   NaN        S  \n",
              "1      0          PC 17599  71.2833   C85        C  \n",
              "2      0  STON/O2. 3101282   7.9250   NaN        S  \n",
              "3      0            113803  53.1000  C123        S  \n",
              "4      0            373450   8.0500   NaN        S  "
            ],
            "text/html": [
              "\n",
              "  <div id=\"df-d0b69e31-de7e-4a0c-915a-cf1f4ef59892\">\n",
              "    <div class=\"colab-df-container\">\n",
              "      <div>\n",
              "<style scoped>\n",
              "    .dataframe tbody tr th:only-of-type {\n",
              "        vertical-align: middle;\n",
              "    }\n",
              "\n",
              "    .dataframe tbody tr th {\n",
              "        vertical-align: top;\n",
              "    }\n",
              "\n",
              "    .dataframe thead th {\n",
              "        text-align: right;\n",
              "    }\n",
              "</style>\n",
              "<table border=\"1\" class=\"dataframe\">\n",
              "  <thead>\n",
              "    <tr style=\"text-align: right;\">\n",
              "      <th></th>\n",
              "      <th>PassengerId</th>\n",
              "      <th>Survived</th>\n",
              "      <th>Pclass</th>\n",
              "      <th>Name</th>\n",
              "      <th>Sex</th>\n",
              "      <th>Age</th>\n",
              "      <th>SibSp</th>\n",
              "      <th>Parch</th>\n",
              "      <th>Ticket</th>\n",
              "      <th>Fare</th>\n",
              "      <th>Cabin</th>\n",
              "      <th>Embarked</th>\n",
              "    </tr>\n",
              "  </thead>\n",
              "  <tbody>\n",
              "    <tr>\n",
              "      <th>0</th>\n",
              "      <td>1</td>\n",
              "      <td>0</td>\n",
              "      <td>3</td>\n",
              "      <td>Braund, Mr. Owen Harris</td>\n",
              "      <td>male</td>\n",
              "      <td>22.0</td>\n",
              "      <td>1</td>\n",
              "      <td>0</td>\n",
              "      <td>A/5 21171</td>\n",
              "      <td>7.2500</td>\n",
              "      <td>NaN</td>\n",
              "      <td>S</td>\n",
              "    </tr>\n",
              "    <tr>\n",
              "      <th>1</th>\n",
              "      <td>2</td>\n",
              "      <td>1</td>\n",
              "      <td>1</td>\n",
              "      <td>Cumings, Mrs. John Bradley (Florence Briggs Th...</td>\n",
              "      <td>female</td>\n",
              "      <td>38.0</td>\n",
              "      <td>1</td>\n",
              "      <td>0</td>\n",
              "      <td>PC 17599</td>\n",
              "      <td>71.2833</td>\n",
              "      <td>C85</td>\n",
              "      <td>C</td>\n",
              "    </tr>\n",
              "    <tr>\n",
              "      <th>2</th>\n",
              "      <td>3</td>\n",
              "      <td>1</td>\n",
              "      <td>3</td>\n",
              "      <td>Heikkinen, Miss. Laina</td>\n",
              "      <td>female</td>\n",
              "      <td>26.0</td>\n",
              "      <td>0</td>\n",
              "      <td>0</td>\n",
              "      <td>STON/O2. 3101282</td>\n",
              "      <td>7.9250</td>\n",
              "      <td>NaN</td>\n",
              "      <td>S</td>\n",
              "    </tr>\n",
              "    <tr>\n",
              "      <th>3</th>\n",
              "      <td>4</td>\n",
              "      <td>1</td>\n",
              "      <td>1</td>\n",
              "      <td>Futrelle, Mrs. Jacques Heath (Lily May Peel)</td>\n",
              "      <td>female</td>\n",
              "      <td>35.0</td>\n",
              "      <td>1</td>\n",
              "      <td>0</td>\n",
              "      <td>113803</td>\n",
              "      <td>53.1000</td>\n",
              "      <td>C123</td>\n",
              "      <td>S</td>\n",
              "    </tr>\n",
              "    <tr>\n",
              "      <th>4</th>\n",
              "      <td>5</td>\n",
              "      <td>0</td>\n",
              "      <td>3</td>\n",
              "      <td>Allen, Mr. William Henry</td>\n",
              "      <td>male</td>\n",
              "      <td>35.0</td>\n",
              "      <td>0</td>\n",
              "      <td>0</td>\n",
              "      <td>373450</td>\n",
              "      <td>8.0500</td>\n",
              "      <td>NaN</td>\n",
              "      <td>S</td>\n",
              "    </tr>\n",
              "  </tbody>\n",
              "</table>\n",
              "</div>\n",
              "      <button class=\"colab-df-convert\" onclick=\"convertToInteractive('df-d0b69e31-de7e-4a0c-915a-cf1f4ef59892')\"\n",
              "              title=\"Convert this dataframe to an interactive table.\"\n",
              "              style=\"display:none;\">\n",
              "        \n",
              "  <svg xmlns=\"http://www.w3.org/2000/svg\" height=\"24px\"viewBox=\"0 0 24 24\"\n",
              "       width=\"24px\">\n",
              "    <path d=\"M0 0h24v24H0V0z\" fill=\"none\"/>\n",
              "    <path d=\"M18.56 5.44l.94 2.06.94-2.06 2.06-.94-2.06-.94-.94-2.06-.94 2.06-2.06.94zm-11 1L8.5 8.5l.94-2.06 2.06-.94-2.06-.94L8.5 2.5l-.94 2.06-2.06.94zm10 10l.94 2.06.94-2.06 2.06-.94-2.06-.94-.94-2.06-.94 2.06-2.06.94z\"/><path d=\"M17.41 7.96l-1.37-1.37c-.4-.4-.92-.59-1.43-.59-.52 0-1.04.2-1.43.59L10.3 9.45l-7.72 7.72c-.78.78-.78 2.05 0 2.83L4 21.41c.39.39.9.59 1.41.59.51 0 1.02-.2 1.41-.59l7.78-7.78 2.81-2.81c.8-.78.8-2.07 0-2.86zM5.41 20L4 18.59l7.72-7.72 1.47 1.35L5.41 20z\"/>\n",
              "  </svg>\n",
              "      </button>\n",
              "      \n",
              "  <style>\n",
              "    .colab-df-container {\n",
              "      display:flex;\n",
              "      flex-wrap:wrap;\n",
              "      gap: 12px;\n",
              "    }\n",
              "\n",
              "    .colab-df-convert {\n",
              "      background-color: #E8F0FE;\n",
              "      border: none;\n",
              "      border-radius: 50%;\n",
              "      cursor: pointer;\n",
              "      display: none;\n",
              "      fill: #1967D2;\n",
              "      height: 32px;\n",
              "      padding: 0 0 0 0;\n",
              "      width: 32px;\n",
              "    }\n",
              "\n",
              "    .colab-df-convert:hover {\n",
              "      background-color: #E2EBFA;\n",
              "      box-shadow: 0px 1px 2px rgba(60, 64, 67, 0.3), 0px 1px 3px 1px rgba(60, 64, 67, 0.15);\n",
              "      fill: #174EA6;\n",
              "    }\n",
              "\n",
              "    [theme=dark] .colab-df-convert {\n",
              "      background-color: #3B4455;\n",
              "      fill: #D2E3FC;\n",
              "    }\n",
              "\n",
              "    [theme=dark] .colab-df-convert:hover {\n",
              "      background-color: #434B5C;\n",
              "      box-shadow: 0px 1px 3px 1px rgba(0, 0, 0, 0.15);\n",
              "      filter: drop-shadow(0px 1px 2px rgba(0, 0, 0, 0.3));\n",
              "      fill: #FFFFFF;\n",
              "    }\n",
              "  </style>\n",
              "\n",
              "      <script>\n",
              "        const buttonEl =\n",
              "          document.querySelector('#df-d0b69e31-de7e-4a0c-915a-cf1f4ef59892 button.colab-df-convert');\n",
              "        buttonEl.style.display =\n",
              "          google.colab.kernel.accessAllowed ? 'block' : 'none';\n",
              "\n",
              "        async function convertToInteractive(key) {\n",
              "          const element = document.querySelector('#df-d0b69e31-de7e-4a0c-915a-cf1f4ef59892');\n",
              "          const dataTable =\n",
              "            await google.colab.kernel.invokeFunction('convertToInteractive',\n",
              "                                                     [key], {});\n",
              "          if (!dataTable) return;\n",
              "\n",
              "          const docLinkHtml = 'Like what you see? Visit the ' +\n",
              "            '<a target=\"_blank\" href=https://colab.research.google.com/notebooks/data_table.ipynb>data table notebook</a>'\n",
              "            + ' to learn more about interactive tables.';\n",
              "          element.innerHTML = '';\n",
              "          dataTable['output_type'] = 'display_data';\n",
              "          await google.colab.output.renderOutput(dataTable, element);\n",
              "          const docLink = document.createElement('div');\n",
              "          docLink.innerHTML = docLinkHtml;\n",
              "          element.appendChild(docLink);\n",
              "        }\n",
              "      </script>\n",
              "    </div>\n",
              "  </div>\n",
              "  "
            ]
          },
          "metadata": {},
          "execution_count": 3
        }
      ],
      "source": [
        "train=pd.read_csv('train.csv')\n",
        "test=pd.read_csv('test.csv')\n",
        "print('Training data shape: ', train.shape)\n",
        "print('Testing data shape: ', test.shape)\n",
        "# First few rows of the training dataset\n",
        "train.head()"
      ]
    },
    {
      "cell_type": "code",
      "execution_count": 4,
      "metadata": {
        "colab": {
          "base_uri": "https://localhost:8080/"
        },
        "id": "14kHWl8W1Bx1",
        "outputId": "91673366-3847-477c-d9be-769ad5b1ffa6"
      },
      "outputs": [
        {
          "output_type": "execute_result",
          "data": {
            "text/plain": [
              "0    549\n",
              "1    342\n",
              "Name: Survived, dtype: int64"
            ]
          },
          "metadata": {},
          "execution_count": 4
        }
      ],
      "source": [
        "train['Survived'].value_counts()"
      ]
    },
    {
      "cell_type": "code",
      "execution_count": 5,
      "metadata": {
        "colab": {
          "base_uri": "https://localhost:8080/"
        },
        "id": "RUJOa_Xc1Bx1",
        "outputId": "b461b2a8-d947-4b9c-a3ca-35f02611d87c"
      },
      "outputs": [
        {
          "output_type": "stream",
          "name": "stdout",
          "text": [
            "             Missing Values  % of Total Values\n",
            "PassengerId               0           0.000000\n",
            "Survived                  0           0.000000\n",
            "Pclass                    0           0.000000\n",
            "Name                      0           0.000000\n",
            "Sex                       0           0.000000\n",
            "Age                     177          19.865320\n",
            "SibSp                     0           0.000000\n",
            "Parch                     0           0.000000\n",
            "Ticket                    0           0.000000\n",
            "Fare                      0           0.000000\n",
            "Cabin                   687          77.104377\n",
            "Embarked                  2           0.224467\n"
          ]
        }
      ],
      "source": [
        "mis_val = train.isnull().sum()\n",
        "mis_val_percent = 100 * train.isnull().sum() / len(train)\n",
        "mis_val_table = pd.concat([mis_val, mis_val_percent], axis=1)\n",
        "mis_val_table_ren_columns = mis_val_table.rename(columns = {0 : 'Missing Values', 1 : '% of Total Values'})\n",
        "print(mis_val_table_ren_columns)"
      ]
    },
    {
      "cell_type": "code",
      "execution_count": 6,
      "metadata": {
        "colab": {
          "base_uri": "https://localhost:8080/"
        },
        "id": "G_wYpYmo1Bx2",
        "outputId": "ba67715b-cd99-49b7-a4fa-10b6130b1d3a"
      },
      "outputs": [
        {
          "output_type": "stream",
          "name": "stdout",
          "text": [
            "Looking in indexes: https://pypi.org/simple, https://us-python.pkg.dev/colab-wheels/public/simple/\n",
            "Requirement already satisfied: missingno in /usr/local/lib/python3.8/dist-packages (0.5.1)\n",
            "Requirement already satisfied: numpy in /usr/local/lib/python3.8/dist-packages (from missingno) (1.21.6)\n",
            "Requirement already satisfied: scipy in /usr/local/lib/python3.8/dist-packages (from missingno) (1.7.3)\n",
            "Requirement already satisfied: matplotlib in /usr/local/lib/python3.8/dist-packages (from missingno) (3.2.2)\n",
            "Requirement already satisfied: seaborn in /usr/local/lib/python3.8/dist-packages (from missingno) (0.11.2)\n",
            "Requirement already satisfied: python-dateutil>=2.1 in /usr/local/lib/python3.8/dist-packages (from matplotlib->missingno) (2.8.2)\n",
            "Requirement already satisfied: pyparsing!=2.0.4,!=2.1.2,!=2.1.6,>=2.0.1 in /usr/local/lib/python3.8/dist-packages (from matplotlib->missingno) (3.0.9)\n",
            "Requirement already satisfied: kiwisolver>=1.0.1 in /usr/local/lib/python3.8/dist-packages (from matplotlib->missingno) (1.4.4)\n",
            "Requirement already satisfied: cycler>=0.10 in /usr/local/lib/python3.8/dist-packages (from matplotlib->missingno) (0.11.0)\n",
            "Requirement already satisfied: pandas>=0.23 in /usr/local/lib/python3.8/dist-packages (from seaborn->missingno) (1.3.5)\n",
            "Requirement already satisfied: pytz>=2017.3 in /usr/local/lib/python3.8/dist-packages (from pandas>=0.23->seaborn->missingno) (2022.7.1)\n",
            "Requirement already satisfied: six>=1.5 in /usr/local/lib/python3.8/dist-packages (from python-dateutil>=2.1->matplotlib->missingno) (1.15.0)\n"
          ]
        }
      ],
      "source": [
        "pip install missingno"
      ]
    },
    {
      "cell_type": "code",
      "execution_count": 7,
      "metadata": {
        "id": "vlmDU_Wc1Bx3"
      },
      "outputs": [],
      "source": [
        "import missingno as ms"
      ]
    },
    {
      "cell_type": "markdown",
      "metadata": {
        "id": "4U0J6D0W1Bx3"
      },
      "source": [
        "##The bar chart gives a quick graphical overview of the completeness of the dataset. We can see that Age, Cabin and embarked columns have missing values"
      ]
    },
    {
      "cell_type": "code",
      "execution_count": 14,
      "metadata": {
        "colab": {
          "base_uri": "https://localhost:8080/",
          "height": 431
        },
        "id": "I6PwQffK1Bx4",
        "outputId": "f180e2a7-a84d-49b7-d86f-7e0077c02f9b"
      },
      "outputs": [
        {
          "output_type": "execute_result",
          "data": {
            "text/plain": [
              "<matplotlib.axes._subplots.AxesSubplot at 0x7f38d3b1e6d0>"
            ]
          },
          "metadata": {},
          "execution_count": 14
        },
        {
          "output_type": "display_data",
          "data": {
            "text/plain": [
              "<Figure size 1800x720 with 3 Axes>"
            ],
            "image/png": "[encoded data removed]"
          },
          "metadata": {
            "needs_background": "light"
          }
        }
      ],
      "source": [
        "ms.bar(train, color='#ffb6c1')"
      ]
    },
    {
      "cell_type": "markdown",
      "metadata": {
        "id": "Vu39xSvQ1Bx5"
      },
      "source": [
        " Visualizing the locations of the missing data"
      ]
    },
    {
      "cell_type": "code",
      "execution_count": 19,
      "metadata": {
        "colab": {
          "base_uri": "https://localhost:8080/",
          "height": 416
        },
        "id": "5M2QKhy71Bx5",
        "outputId": "812d4cbf-a13e-4d46-9080-42b1b9aceee6"
      },
      "outputs": [
        {
          "output_type": "execute_result",
          "data": {
            "text/plain": [
              "<matplotlib.axes._subplots.AxesSubplot at 0x7f38d39aeeb0>"
            ]
          },
          "metadata": {},
          "execution_count": 19
        },
        {
          "output_type": "display_data",
          "data": {
            "text/plain": [
              "<Figure size 1800x720 with 2 Axes>"
            ],
            "image/png": "[encoded data removed]"
          },
          "metadata": {
            "needs_background": "light"
          }
        }
      ],
      "source": [
        "ms.matrix(train)"
      ]
    },
    {
      "cell_type": "markdown",
      "metadata": {
        "id": "V6hFk78X1Bx6"
      },
      "source": [
        "**1**. The Embarked Column has very few missing values and donot seem to be correlated with any other column, Hence, the missingness in Embarked column can be attributed as Missing Completely at Random.\n",
        "\n",
        "\n",
        "---\n",
        "\n",
        "\n",
        "**2**. Both the Age and the Cabin columns have a lot of missing values.This could be a case of MAR as we cannot directly observe the reason for missingness of data in these columns."
      ]
    },
    {
      "cell_type": "code",
      "execution_count": 20,
      "metadata": {
        "colab": {
          "base_uri": "https://localhost:8080/",
          "height": 416
        },
        "id": "MKYsQP2d1Bx6",
        "outputId": "3f25d54c-2a83-45ae-9e5c-36d56bd7660a"
      },
      "outputs": [
        {
          "output_type": "execute_result",
          "data": {
            "text/plain": [
              "<matplotlib.axes._subplots.AxesSubplot at 0x7f38d38f0ee0>"
            ]
          },
          "metadata": {},
          "execution_count": 20
        },
        {
          "output_type": "display_data",
          "data": {
            "text/plain": [
              "<Figure size 1800x720 with 2 Axes>"
            ],
            "image/png": "[encoded data removed]"
          },
          "metadata": {
            "needs_background": "light"
          }
        }
      ],
      "source": [
        "sort = train.sort_values('Age')\n",
        "ms.matrix(sort)"
      ]
    },
    {
      "cell_type": "code",
      "execution_count": 21,
      "metadata": {
        "colab": {
          "base_uri": "https://localhost:8080/",
          "height": 605
        },
        "id": "7f6Lbg2x1Bx6",
        "outputId": "058384fd-86ec-4383-cefa-0719ddf81a3b"
      },
      "outputs": [
        {
          "output_type": "execute_result",
          "data": {
            "text/plain": [
              "<matplotlib.axes._subplots.AxesSubplot at 0x7f38d3b5ec40>"
            ]
          },
          "metadata": {},
          "execution_count": 21
        },
        {
          "output_type": "display_data",
          "data": {
            "text/plain": [
              "<Figure size 1440x864 with 2 Axes>"
            ],
            "image/png": "[encoded data removed]"
          },
          "metadata": {
            "needs_background": "light"
          }
        }
      ],
      "source": [
        "ms.heatmap(train)"
      ]
    },
    {
      "cell_type": "markdown",
      "metadata": {
        "id": "O5I9h-Ff1Bx7"
      },
      "source": [
        "## It is clear that here is no relation between the missingness in Age and Cabin column."
      ]
    },
    {
      "cell_type": "markdown",
      "source": [
        "\n",
        "\n",
        "---\n",
        "\n"
      ],
      "metadata": {
        "id": "n-GqVbSB25yf"
      }
    },
    {
      "cell_type": "markdown",
      "metadata": {
        "id": "00IpOwan1Bx7"
      },
      "source": [
        "# Treating Missing Values\n",
        " "
      ]
    },
    {
      "cell_type": "markdown",
      "metadata": {
        "id": "VTDHOg6u1Bx7"
      },
      "source": [
        "Pairwise Deletion\n",
        "Parwise Deletion is used when values are missing completely at random i.e MCAR. \n",
        "During Pairwise deletion, only the missing values are deleted.\n",
        " All operations like mean,sum etc should skip missing values."
      ]
    },
    {
      "cell_type": "code",
      "execution_count": 22,
      "metadata": {
        "colab": {
          "base_uri": "https://localhost:8080/"
        },
        "id": "guT3j1Fe1Bx7",
        "outputId": "3e95c80d-fefb-4b97-933a-7b0ec29fd9ae"
      },
      "outputs": [
        {
          "output_type": "execute_result",
          "data": {
            "text/plain": [
              "29.69911764705882"
            ]
          },
          "metadata": {},
          "execution_count": 22
        }
      ],
      "source": [
        "train_1 = train.copy()\n",
        "train_1['Age'].mean()"
      ]
    },
    {
      "cell_type": "markdown",
      "metadata": {
        "id": "-c7hRncv1Bx8"
      },
      "source": [
        "\n",
        "#Listwise Deletion/ Dropping rows\n",
        "\n",
        "During Listwise deletion, complete rows(which contain the missing values) are deleted. As a result, it is also called Complete Case deletion. \n",
        "Like Pairwise deletion, listwise deletions are also only used for MCAR values.\n",
        "It is advisable to use it only when the number of missing values is very small.\n",
        "\n"
      ]
    },
    {
      "cell_type": "code",
      "execution_count": 23,
      "metadata": {
        "colab": {
          "base_uri": "https://localhost:8080/"
        },
        "id": "DLSlnvam1Bx8",
        "outputId": "0f3ffe40-3230-4d07-cd4f-0ebdff87b250"
      },
      "outputs": [
        {
          "output_type": "execute_result",
          "data": {
            "text/plain": [
              "0"
            ]
          },
          "metadata": {},
          "execution_count": 23
        }
      ],
      "source": [
        "train_1.dropna(subset=['Age'],how='any',inplace=True)\n",
        "train_1['Age'].isnull().sum()"
      ]
    },
    {
      "cell_type": "markdown",
      "metadata": {
        "id": "LVHkPS3W1Bx8"
      },
      "source": [
        "#Dropping complete columns"
      ]
    },
    {
      "cell_type": "markdown",
      "metadata": {
        "id": "uAKXOc5q1Bx8"
      },
      "source": [
        "Imputations Techniques for non Time Series Problems.\n",
        "Imputation refers to replacing missing data with substituted values."
      ]
    },
    {
      "cell_type": "code",
      "execution_count": 24,
      "metadata": {
        "colab": {
          "base_uri": "https://localhost:8080/"
        },
        "id": "Q7-M9a391Bx8",
        "outputId": "8367e4b6-a6dd-47c7-80a7-02fdb82e551a"
      },
      "outputs": [
        {
          "output_type": "execute_result",
          "data": {
            "text/plain": [
              "PassengerId    0\n",
              "Survived       0\n",
              "Pclass         0\n",
              "Name           0\n",
              "Sex            0\n",
              "Age            0\n",
              "SibSp          0\n",
              "Parch          0\n",
              "Ticket         0\n",
              "Fare           0\n",
              "Cabin          0\n",
              "Embarked       0\n",
              "dtype: int64"
            ]
          },
          "metadata": {},
          "execution_count": 24
        }
      ],
      "source": [
        "from sklearn.impute import SimpleImputer\n",
        "train_constant = train.copy()\n",
        "#setting strategy to 'constant' \n",
        "mean_imputer = SimpleImputer(strategy='constant') # imputing using constant value\n",
        "train_constant.iloc[:,:] = mean_imputer.fit_transform(train_constant)\n",
        "train_constant.isnull().sum()"
      ]
    },
    {
      "cell_type": "code",
      "execution_count": 25,
      "metadata": {
        "colab": {
          "base_uri": "https://localhost:8080/"
        },
        "id": "s4jKMYKP1Bx9",
        "outputId": "10aa75d2-81db-48e5-ac44-ff080be6d148"
      },
      "outputs": [
        {
          "output_type": "execute_result",
          "data": {
            "text/plain": [
              "PassengerId    0\n",
              "Survived       0\n",
              "Pclass         0\n",
              "Name           0\n",
              "Sex            0\n",
              "Age            0\n",
              "SibSp          0\n",
              "Parch          0\n",
              "Ticket         0\n",
              "Fare           0\n",
              "Cabin          0\n",
              "Embarked       0\n",
              "dtype: int64"
            ]
          },
          "metadata": {},
          "execution_count": 25
        }
      ],
      "source": [
        "from sklearn.impute import SimpleImputer\n",
        "train_most_frequent = train.copy()\n",
        "#setting strategy to 'mean' to impute by the mean\n",
        "mean_imputer = SimpleImputer(strategy='most_frequent')# strategy can also be mean or median \n",
        "train_most_frequent.iloc[:,:] = mean_imputer.fit_transform(train_most_frequent)\n",
        "train_most_frequent.isnull().sum()"
      ]
    },
    {
      "cell_type": "markdown",
      "metadata": {
        "id": "ryogxJz-1Bx9"
      },
      "source": [
        "#Imputing in Time Series Dataset"
      ]
    },
    {
      "cell_type": "code",
      "execution_count": 30,
      "metadata": {
        "id": "myCpFi241Bx9"
      },
      "outputs": [],
      "source": [
        "city_day = pd.read_csv('city_day.csv',parse_dates=True,index_col='Date')\n",
        "city_day.head()\n",
        "city_day1=city_day\n",
        "city_day2=city_day"
      ]
    },
    {
      "cell_type": "code",
      "execution_count": 31,
      "metadata": {
        "colab": {
          "base_uri": "https://localhost:8080/"
        },
        "id": "R-XN2PP71Bx9",
        "outputId": "3d7e0c56-817b-4895-bc88-088f71df4a8c"
      },
      "outputs": [
        {
          "output_type": "stream",
          "name": "stdout",
          "text": [
            "            Missing Values  % of Total Values\n",
            "City                     0           0.000000\n",
            "PM2.5                 4598          15.570079\n",
            "PM10                 11140          37.723071\n",
            "NO                    3582          12.129626\n",
            "NO2                   3585          12.139785\n",
            "NOx                   4185          14.171549\n",
            "NH3                  10328          34.973418\n",
            "CO                    2059           6.972334\n",
            "SO2                   3854          13.050692\n",
            "O3                    4022          13.619586\n",
            "Benzene               5623          19.041008\n",
            "Toluene               8041          27.229014\n",
            "Xylene               18109          61.322001\n",
            "AQI                   4681          15.851139\n",
            "AQI_Bucket            4681          15.851139\n"
          ]
        }
      ],
      "source": [
        "mis_val = city_day.isnull().sum()\n",
        "mis_val_percent = 100 * city_day.isnull().sum() / len(city_day)\n",
        "mis_val_table = pd.concat([mis_val, mis_val_percent], axis=1)\n",
        "mis_val_table_ren_columns = mis_val_table.rename(columns = {0 : 'Missing Values', 1 : '% of Total Values'})\n",
        "print(mis_val_table_ren_columns)"
      ]
    },
    {
      "cell_type": "markdown",
      "metadata": {
        "id": "WoWPqUQA1Bx9"
      },
      "source": [
        "There are a lot of missing values and some of the columns like Xylene and PM10 have more than 50% of the values missing"
      ]
    },
    {
      "cell_type": "markdown",
      "metadata": {
        "id": "-pxaL-TH1Bx9"
      },
      "source": [
        "Imputing using ffill"
      ]
    },
    {
      "cell_type": "code",
      "execution_count": 32,
      "metadata": {
        "colab": {
          "base_uri": "https://localhost:8080/"
        },
        "id": "eRNL-PPR1Bx-",
        "outputId": "7a8749dd-509d-413e-ffaa-4df7445f7022"
      },
      "outputs": [
        {
          "output_type": "execute_result",
          "data": {
            "text/plain": [
              "Date\n",
              "2015-02-20     7.48\n",
              "2015-02-21    15.44\n",
              "2015-02-22     8.47\n",
              "2015-02-23    28.46\n",
              "2015-02-24     6.05\n",
              "2015-02-25     0.81\n",
              "2015-02-26      NaN\n",
              "2015-02-27      NaN\n",
              "2015-02-28      NaN\n",
              "2015-03-01     1.32\n",
              "2015-03-02     0.22\n",
              "2015-03-03     2.25\n",
              "2015-03-04     1.55\n",
              "2015-03-05     4.13\n",
              "2015-03-06      NaN\n",
              "Name: Xylene, dtype: float64"
            ]
          },
          "metadata": {},
          "execution_count": 32
        }
      ],
      "source": [
        "city_day1['Xylene'][50:65]"
      ]
    },
    {
      "cell_type": "code",
      "execution_count": 33,
      "metadata": {
        "colab": {
          "base_uri": "https://localhost:8080/"
        },
        "id": "UCuZIdfI1Bx-",
        "outputId": "38cb8c97-d6e0-48cd-a7dc-71c15bb3a906"
      },
      "outputs": [
        {
          "output_type": "execute_result",
          "data": {
            "text/plain": [
              "Date\n",
              "2015-02-20     7.48\n",
              "2015-02-21    15.44\n",
              "2015-02-22     8.47\n",
              "2015-02-23    28.46\n",
              "2015-02-24     6.05\n",
              "2015-02-25     0.81\n",
              "2015-02-26     0.81\n",
              "2015-02-27     0.81\n",
              "2015-02-28     0.81\n",
              "2015-03-01     1.32\n",
              "2015-03-02     0.22\n",
              "2015-03-03     2.25\n",
              "2015-03-04     1.55\n",
              "2015-03-05     4.13\n",
              "2015-03-06     4.13\n",
              "Name: Xylene, dtype: float64"
            ]
          },
          "metadata": {},
          "execution_count": 33
        }
      ],
      "source": [
        "city_day1.fillna(method='ffill',inplace=True)\n",
        "city_day1['Xylene'][50:65]"
      ]
    },
    {
      "cell_type": "markdown",
      "metadata": {
        "id": "AdYamwMI1Bx-"
      },
      "source": [
        "Imputation using bfill"
      ]
    },
    {
      "cell_type": "code",
      "execution_count": 34,
      "metadata": {
        "colab": {
          "base_uri": "https://localhost:8080/"
        },
        "id": "uvjFuJ9v1Bx-",
        "outputId": "23d7b35b-0613-45d1-e3f2-0a3a82999193"
      },
      "outputs": [
        {
          "output_type": "execute_result",
          "data": {
            "text/plain": [
              "Date\n",
              "2015-01-21      NaN\n",
              "2015-01-22      NaN\n",
              "2015-01-23      NaN\n",
              "2015-01-24      NaN\n",
              "2015-01-25      NaN\n",
              "2015-01-26      NaN\n",
              "2015-01-27      NaN\n",
              "2015-01-28      NaN\n",
              "2015-01-29    209.0\n",
              "2015-01-30    328.0\n",
              "Name: AQI, dtype: float64"
            ]
          },
          "metadata": {},
          "execution_count": 34
        }
      ],
      "source": [
        "city_day1['AQI'][20:30]"
      ]
    },
    {
      "cell_type": "code",
      "execution_count": 35,
      "metadata": {
        "colab": {
          "base_uri": "https://localhost:8080/"
        },
        "id": "zc2YgSy71Bx-",
        "outputId": "938bcb86-a224-4672-b7e3-415f3c13630b"
      },
      "outputs": [
        {
          "output_type": "execute_result",
          "data": {
            "text/plain": [
              "Date\n",
              "2015-01-21    209.0\n",
              "2015-01-22    209.0\n",
              "2015-01-23    209.0\n",
              "2015-01-24    209.0\n",
              "2015-01-25    209.0\n",
              "2015-01-26    209.0\n",
              "2015-01-27    209.0\n",
              "2015-01-28    209.0\n",
              "2015-01-29    209.0\n",
              "2015-01-30    328.0\n",
              "Name: AQI, dtype: float64"
            ]
          },
          "metadata": {},
          "execution_count": 35
        }
      ],
      "source": [
        "city_day1.fillna(method='bfill',inplace=True)\n",
        "city_day1['AQI'][20:30]"
      ]
    },
    {
      "cell_type": "markdown",
      "metadata": {
        "id": "82maEI231Bx-"
      },
      "source": [
        "Imputation using Linear Interpolation method"
      ]
    },
    {
      "cell_type": "code",
      "execution_count": 36,
      "metadata": {
        "colab": {
          "base_uri": "https://localhost:8080/"
        },
        "id": "Ys_XRG_p1Bx-",
        "outputId": "f57f49f7-8faa-41d0-f952-40a467535ac1"
      },
      "outputs": [
        {
          "output_type": "execute_result",
          "data": {
            "text/plain": [
              "Date\n",
              "2015-02-20     7.48\n",
              "2015-02-21    15.44\n",
              "2015-02-22     8.47\n",
              "2015-02-23    28.46\n",
              "2015-02-24     6.05\n",
              "2015-02-25     0.81\n",
              "2015-02-26     0.81\n",
              "2015-02-27     0.81\n",
              "2015-02-28     0.81\n",
              "2015-03-01     1.32\n",
              "2015-03-02     0.22\n",
              "2015-03-03     2.25\n",
              "2015-03-04     1.55\n",
              "2015-03-05     4.13\n",
              "2015-03-06     4.13\n",
              "Name: Xylene, dtype: float64"
            ]
          },
          "metadata": {},
          "execution_count": 36
        }
      ],
      "source": [
        "city_day2['Xylene'][50:65]"
      ]
    },
    {
      "cell_type": "markdown",
      "source": [
        "\n",
        "\n",
        "---\n",
        "\n"
      ],
      "metadata": {
        "id": "LgwdnMwi4Vb5"
      }
    },
    {
      "cell_type": "markdown",
      "metadata": {
        "id": "VcoppgXh1Bx_"
      },
      "source": [
        "\n",
        "#Advanced Imputation Techniques\n",
        "\n",
        "Advanced imputation techniques uses machine learning algorithms to impute the missing values in a dataset unlike the previous techniques where we used other column values to predict the missing values. We shall look at the following two techniques in this notebook:\n",
        "\n",
        "    Nearest neighbors imputation\n",
        "    Multivariate feature imputation\n",
        "\n",
        "#K-Nearest Neighbor Imputation\n",
        "\n",
        "The KNNImputer class provides imputation for filling in missing values using the k-Nearest Neighbors approach.Each missing feature is imputed using values from n_neighbors nearest neighbors that have a value for the feature. "
      ]
    },
    {
      "cell_type": "code",
      "execution_count": 37,
      "metadata": {
        "id": "R6HkfRpI1Bx_"
      },
      "outputs": [],
      "source": [
        "from sklearn.impute import KNNImputer"
      ]
    },
    {
      "cell_type": "code",
      "execution_count": 38,
      "metadata": {
        "id": "8sB682il1Bx_"
      },
      "outputs": [],
      "source": [
        "\n",
        "\n",
        "train_knn = train.copy(deep=True)\n",
        "\n",
        "knn_imputer = KNNImputer(n_neighbors=2, weights=\"uniform\")\n",
        "\n",
        "train_knn['Age'] = knn_imputer.fit_transform(train_knn[['Age']])"
      ]
    },
    {
      "cell_type": "code",
      "execution_count": 39,
      "metadata": {
        "colab": {
          "base_uri": "https://localhost:8080/"
        },
        "id": "eqeVq-771Bx_",
        "outputId": "d2c08f9e-6da6-40b5-c0d9-791b44d59b58"
      },
      "outputs": [
        {
          "output_type": "execute_result",
          "data": {
            "text/plain": [
              "0"
            ]
          },
          "metadata": {},
          "execution_count": 39
        }
      ],
      "source": [
        "train_knn['Age'].isnull().sum()"
      ]
    },
    {
      "cell_type": "markdown",
      "metadata": {
        "id": "nNmiqjRj1Bx_"
      },
      "source": [
        "\n",
        "Multivariate feature imputation - Multivariate imputation by chained equations (MICE)\n",
        "\n",
        "\n",
        "---\n",
        "\n",
        "\n",
        "\n",
        "A strategy for imputing missing values by modeling each feature with missing values as a function of other features in a round-robin fashion. It performns multiple regressions over random sample ofthe data, then takes the average ofthe multiple regression values and uses that value to impute the missing value."
      ]
    },
    {
      "cell_type": "code",
      "execution_count": 40,
      "metadata": {
        "colab": {
          "base_uri": "https://localhost:8080/"
        },
        "id": "9naNHheI1Bx_",
        "outputId": "38f52cfd-1b2e-4540-ad9c-77c6f8750a83"
      },
      "outputs": [
        {
          "output_type": "execute_result",
          "data": {
            "text/plain": [
              "0"
            ]
          },
          "metadata": {},
          "execution_count": 40
        }
      ],
      "source": [
        "from sklearn.experimental import enable_iterative_imputer\n",
        "from sklearn.impute import IterativeImputer\n",
        "train_mice = train.copy(deep=True)\n",
        "\n",
        "mice_imputer = IterativeImputer()\n",
        "train_mice['Age'] = mice_imputer.fit_transform(train_mice[['Age']])\n",
        "\n",
        "train_mice['Age'].isnull().sum()"
      ]
    }
  ],
  "metadata": {
    "kernelspec": {
      "display_name": "Python 3",
      "language": "python",
      "name": "python3"
    },
    "language_info": {
      "codemirror_mode": {
        "name": "ipython",
        "version": 3
      },
      "file_extension": ".py",
      "mimetype": "text/x-python",
      "name": "python",
      "nbconvert_exporter": "python",
      "pygments_lexer": "ipython3",
      "version": "3.7.3"
    },
    "colab": {
      "provenance": [],
      "include_colab_link": true
    }
  },
  "nbformat": 4,
  "nbformat_minor": 0
}