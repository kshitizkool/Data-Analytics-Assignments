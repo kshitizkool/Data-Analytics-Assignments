{
  "cells": [
    {
      "cell_type": "markdown",
      "metadata": {
        "id": "view-in-github",
        "colab_type": "text"
      },
      "source": [
        "<a href=\"https://colab.research.google.com/github/kshitizkool/Data-Analytics-Assignments/blob/main/Skewness_and_Kurtosis.ipynb\" target=\"_parent\"><img src=\"https://colab.research.google.com/assets/colab-badge.svg\" alt=\"Open In Colab\"/></a>"
      ]
    },
    {
      "cell_type": "code",
      "execution_count": 17,
      "metadata": {
        "colab": {
          "base_uri": "https://localhost:8080/",
          "height": 455
        },
        "id": "dgHE15MgwfG3",
        "outputId": "c15e9507-49d7-416d-8413-4ebbda338f2a"
      },
      "outputs": [
        {
          "output_type": "stream",
          "name": "stdout",
          "text": [
            "<class 'pandas.core.series.Series'>\n",
            "--------------------------------------\n",
            "Basic Statistics DescribeResult(nobs=800, minmax=(5, 230), mean=73.8425, variance=972.4107071339174, skewness=1.153743837578723, kurtosis=2.701760387881203)\n",
            "excess kurtosis : 2.701760387881203\n",
            "skewness : 1.153743837578723\n",
            "Mean : 73.8425\n",
            "Median: 70.0\n"
          ]
        },
        {
          "output_type": "stream",
          "name": "stderr",
          "text": [
            "/usr/local/lib/python3.8/dist-packages/seaborn/distributions.py:2619: FutureWarning: `distplot` is a deprecated function and will be removed in a future version. Please adapt your code to use either `displot` (a figure-level function with similar flexibility) or `histplot` (an axes-level function for histograms).\n",
            "  warnings.warn(msg, FutureWarning)\n"
          ]
        },
        {
          "output_type": "display_data",
          "data": {
            "text/plain": [
              "<Figure size 432x288 with 1 Axes>"
            ],
            "image/png": "[encoded data removed]"
          },
          "metadata": {
            "needs_background": "light"
          }
        }
      ],
      "source": [
        "import numpy as np\n",
        "import pandas as pd\n",
        "import matplotlib.pyplot as plt\n",
        "import seaborn as sn\n",
        "import numpy as np\n",
        "from scipy import stats\n",
        "from scipy.stats import kurtosis,skew\n",
        "\n",
        "pokemon = pd.read_csv('/content/pokemon.csv', encoding='latin-1')\n",
        "y=pokemon['Defense']\n",
        "print(type(y))\n",
        "arr = y.to_numpy()\n",
        "mean_ = np.mean(y)\n",
        "median_ = np.median(y)\n",
        "print(\"--------------------------------------\")\n",
        "sn.distplot(y)\n",
        "#Showing the plot\n",
        "#plt.show()\n",
        "print ('Basic Statistics',stats.describe(y))\n",
        "print( 'excess kurtosis : {}'.format( kurtosis(arr) ))\n",
        "print( 'skewness : {}'.format( skew(arr) ))\n",
        "print('Mean :', mean_ )\n",
        "print('Median:',median_)\n"
      ]
    },
    {
      "cell_type": "code",
      "execution_count": 18,
      "metadata": {
        "colab": {
          "base_uri": "https://localhost:8080/",
          "height": 386
        },
        "id": "U5P7zylHwfG6",
        "outputId": "5cbb8747-c661-4534-d2dd-143236db538c"
      },
      "outputs": [
        {
          "output_type": "execute_result",
          "data": {
            "text/plain": [
              "<seaborn.axisgrid.FacetGrid at 0x7fcaf2af4430>"
            ]
          },
          "metadata": {},
          "execution_count": 18
        },
        {
          "output_type": "display_data",
          "data": {
            "text/plain": [
              "<Figure size 360x360 with 1 Axes>"
            ],
            "image/png": "[encoded data removed]"
          },
          "metadata": {
            "needs_background": "light"
          }
        }
      ],
      "source": [
        "sn.displot(y)"
      ]
    }
  ],
  "metadata": {
    "kernelspec": {
      "display_name": "Python 3",
      "language": "python",
      "name": "python3"
    },
    "language_info": {
      "codemirror_mode": {
        "name": "ipython",
        "version": 3
      },
      "file_extension": ".py",
      "mimetype": "text/x-python",
      "name": "python",
      "nbconvert_exporter": "python",
      "pygments_lexer": "ipython3",
      "version": "3.7.3"
    },
    "colab": {
      "provenance": [],
      "include_colab_link": true
    }
  },
  "nbformat": 4,
  "nbformat_minor": 0
}