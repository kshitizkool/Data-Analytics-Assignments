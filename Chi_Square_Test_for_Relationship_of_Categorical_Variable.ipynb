{
  "cells": [
    {
      "cell_type": "markdown",
      "metadata": {
        "id": "view-in-github",
        "colab_type": "text"
      },
      "source": [
        "<a href=\"https://colab.research.google.com/github/kshitizkool/Data-Analytics-Assignments/blob/main/Chi_Square_Test_for_Relationship_of_Categorical_Variable.ipynb\" target=\"_parent\"><img src=\"https://colab.research.google.com/assets/colab-badge.svg\" alt=\"Open In Colab\"/></a>"
      ]
    },
    {
      "cell_type": "markdown",
      "metadata": {
        "id": "16mEXZKbzUpO"
      },
      "source": [
        "# Chi-Square Test for Categorical Variables"
      ]
    },
    {
      "cell_type": "code",
      "execution_count": 1,
      "metadata": {
        "id": "7_QlPC2UzUpR"
      },
      "outputs": [],
      "source": [
        "import scipy.stats as stats\n",
        "import seaborn as sns\n",
        "import pandas as pd\n",
        "import numpy as np"
      ]
    },
    {
      "cell_type": "code",
      "execution_count": 2,
      "metadata": {
        "id": "8bD_46z6zUpS"
      },
      "outputs": [],
      "source": [
        "data = pd.read_csv('/content/ChiSqare.csv', encoding='latin-1')"
      ]
    },
    {
      "cell_type": "code",
      "execution_count": 3,
      "metadata": {
        "colab": {
          "base_uri": "https://localhost:8080/"
        },
        "id": "YsRCkMzazUpS",
        "outputId": "98f0ff41-c6fe-47e8-e516-fbdaa905e4f1"
      },
      "outputs": [
        {
          "output_type": "stream",
          "name": "stdout",
          "text": [
            "<class 'pandas.core.frame.DataFrame'>\n",
            "RangeIndex: 76 entries, 0 to 75\n",
            "Data columns (total 23 columns):\n",
            " #   Column                   Non-Null Count  Dtype  \n",
            "---  ------                   --------------  -----  \n",
            " 0   ID                       76 non-null     int64  \n",
            " 1   Gender                   76 non-null     object \n",
            " 2   Classification           76 non-null     object \n",
            " 3   Height                   76 non-null     float64\n",
            " 4   Shoe Size                76 non-null     float64\n",
            " 5   Phone Time               75 non-null     float64\n",
            " 6   # of Shoes               75 non-null     float64\n",
            " 7   Birth order              76 non-null     object \n",
            " 8   Pets                     75 non-null     float64\n",
            " 9   Happy                    74 non-null     float64\n",
            " 10  Funny                    73 non-null     float64\n",
            " 11  College                  76 non-null     object \n",
            " 12  Bfast Calories           74 non-null     float64\n",
            " 13  Exercise                 76 non-null     int64  \n",
            " 14  Stat Pre                 75 non-null     float64\n",
            " 15  Stat Post                70 non-null     float64\n",
            " 16  Phone Type               76 non-null     object \n",
            " 17  Sleep                    75 non-null     float64\n",
            " 18  Social Media             75 non-null     float64\n",
            " 19  Impact of SocNetworking  76 non-null     object \n",
            " 20  Political                76 non-null     object \n",
            " 21  Animal                   76 non-null     object \n",
            " 22  Superhero                76 non-null     object \n",
            "dtypes: float64(12), int64(2), object(9)\n",
            "memory usage: 13.8+ KB\n"
          ]
        }
      ],
      "source": [
        "data.head(5)\n",
        "data.info()"
      ]
    },
    {
      "cell_type": "code",
      "execution_count": 4,
      "metadata": {
        "colab": {
          "base_uri": "https://localhost:8080/"
        },
        "id": "q53-iz9IzUpT",
        "outputId": "da0393d5-cd87-4feb-b9d8-e077b657c7e4"
      },
      "outputs": [
        {
          "output_type": "stream",
          "name": "stdout",
          "text": [
            "College      Education  Liberal Arts  Natural Sciences  Nursing  \\\n",
            "Political                                                         \n",
            "Democrat             3             1                17        4   \n",
            "Independent          0             3                13        5   \n",
            "Republican           5             4                 9        1   \n",
            "\n",
            "College      Undergraduate Studies  \n",
            "Political                           \n",
            "Democrat                         3  \n",
            "Independent                      4  \n",
            "Republican                       4  \n"
          ]
        }
      ],
      "source": [
        "Contigency=pd.crosstab(data['Political'],data['College'])\n",
        "print(Contigency)"
      ]
    },
    {
      "cell_type": "code",
      "execution_count": 5,
      "metadata": {
        "colab": {
          "base_uri": "https://localhost:8080/"
        },
        "id": "YAydDq0xzUpU",
        "outputId": "bc5efbdf-af61-4a7c-9a54-20b0b6bfc0e3"
      },
      "outputs": [
        {
          "output_type": "execute_result",
          "data": {
            "text/plain": [
              "array([[ 3,  1, 17,  4,  3],\n",
              "       [ 0,  3, 13,  5,  4],\n",
              "       [ 5,  4,  9,  1,  4]])"
            ]
          },
          "metadata": {},
          "execution_count": 5
        }
      ],
      "source": [
        "Contigency.values "
      ]
    },
    {
      "cell_type": "code",
      "execution_count": 6,
      "metadata": {
        "colab": {
          "base_uri": "https://localhost:8080/"
        },
        "id": "0dn1fUvkzUpU",
        "outputId": "bf735066-3d40-4dc9-cb95-a300796c6194"
      },
      "outputs": [
        {
          "output_type": "stream",
          "name": "stdout",
          "text": [
            "Observed Values :-\n",
            " [[ 3  1 17  4  3]\n",
            " [ 0  3 13  5  4]\n",
            " [ 5  4  9  1  4]]\n"
          ]
        }
      ],
      "source": [
        "#Observed Values\n",
        "Observed_Values = Contigency.values\n",
        "print(\"Observed Values :-\\n\",Observed_Values)"
      ]
    },
    {
      "cell_type": "code",
      "execution_count": 7,
      "metadata": {
        "colab": {
          "base_uri": "https://localhost:8080/"
        },
        "id": "AoGUUqULzUpU",
        "outputId": "980e49d9-0086-48dd-d701-189454497b9d"
      },
      "outputs": [
        {
          "output_type": "stream",
          "name": "stdout",
          "text": [
            "<class 'tuple'>\n"
          ]
        },
        {
          "output_type": "execute_result",
          "data": {
            "text/plain": [
              "(11.619615891355021,\n",
              " 0.16899955816578377,\n",
              " 8,\n",
              " array([[ 2.94736842,  2.94736842, 14.36842105,  3.68421053,  4.05263158],\n",
              "        [ 2.63157895,  2.63157895, 12.82894737,  3.28947368,  3.61842105],\n",
              "        [ 2.42105263,  2.42105263, 11.80263158,  3.02631579,  3.32894737]]))"
            ]
          },
          "metadata": {},
          "execution_count": 7
        }
      ],
      "source": [
        "val=stats.chi2_contingency(Contigency)\n",
        "print(type(val))\n",
        "val"
      ]
    },
    {
      "cell_type": "code",
      "execution_count": 8,
      "metadata": {
        "colab": {
          "base_uri": "https://localhost:8080/"
        },
        "id": "YZyb1qn2zUpV",
        "outputId": "10956ef3-68fc-42b6-884a-80fae19d3879"
      },
      "outputs": [
        {
          "output_type": "execute_result",
          "data": {
            "text/plain": [
              "array([[ 2.94736842,  2.94736842, 14.36842105,  3.68421053,  4.05263158],\n",
              "       [ 2.63157895,  2.63157895, 12.82894737,  3.28947368,  3.61842105],\n",
              "       [ 2.42105263,  2.42105263, 11.80263158,  3.02631579,  3.32894737]])"
            ]
          },
          "metadata": {},
          "execution_count": 8
        }
      ],
      "source": [
        "Expected=val[3]\n",
        "Expected"
      ]
    },
    {
      "cell_type": "code",
      "execution_count": 13,
      "metadata": {
        "colab": {
          "base_uri": "https://localhost:8080/"
        },
        "id": "adLWiq3SzUpV",
        "outputId": "8d320055-f8e3-4644-dedf-ce0d96431b3a"
      },
      "outputs": [
        {
          "output_type": "stream",
          "name": "stdout",
          "text": [
            "(3, 5)\n",
            "Degree of Freedom: 8\n"
          ]
        }
      ],
      "source": [
        "print(Contigency.shape)\n",
        "no_of_rows=Contigency.shape[0]\n",
        "no_of_columns=Contigency.shape[1]\n",
        "dof=(no_of_rows-1)*(no_of_columns-1)\n",
        "print(\"Degree of Freedom:\",dof)\n",
        "alpha = 0.05"
      ]
    },
    {
      "cell_type": "code",
      "execution_count": 16,
      "metadata": {
        "colab": {
          "base_uri": "https://localhost:8080/"
        },
        "id": "ipZdQT91zUpW",
        "outputId": "00eff3d5-eaca-4d80-8206-d835d22b5da8"
      },
      "outputs": [
        {
          "output_type": "stream",
          "name": "stdout",
          "text": [
            "2.3679813664596274\n",
            "chi-square statistic: 7.7476397515527955\n",
            "critical_value: 15.50731305586545\n"
          ]
        }
      ],
      "source": [
        "from scipy.stats import chi2\n",
        "chi_square=sum([(o-e)**2./e for o,e in zip(Observed_Values,Expected)])\n",
        "print(chi_square[1])\n",
        "chi_square_statistic=chi_square[0]+chi_square[1]\n",
        "print(\"chi-square statistic:\",chi_square_statistic)\n",
        "critical_value=chi2.ppf(q=1-alpha,df=dof)\n",
        "print('critical_value:',critical_value)"
      ]
    },
    {
      "cell_type": "code",
      "execution_count": 15,
      "metadata": {
        "colab": {
          "base_uri": "https://localhost:8080/"
        },
        "id": "J8QkOWfpzUpW",
        "outputId": "424ab61d-187f-4453-d22e-dfdf80346ace"
      },
      "outputs": [
        {
          "output_type": "stream",
          "name": "stdout",
          "text": [
            "Retain H0,There is no relationship between 2 categorical variables\n"
          ]
        }
      ],
      "source": [
        "if chi_square_statistic>=critical_value:\n",
        "    print(\"Reject H0,There is a relationship between 2 categorical variables\")\n",
        "else:\n",
        "    print(\"Retain H0,There is no relationship between 2 categorical variables\")"
      ]
    }
  ],
  "metadata": {
    "kernelspec": {
      "display_name": "Python 3",
      "language": "python",
      "name": "python3"
    },
    "language_info": {
      "codemirror_mode": {
        "name": "ipython",
        "version": 3
      },
      "file_extension": ".py",
      "mimetype": "text/x-python",
      "name": "python",
      "nbconvert_exporter": "python",
      "pygments_lexer": "ipython3",
      "version": "3.7.3"
    },
    "colab": {
      "provenance": [],
      "include_colab_link": true
    }
  },
  "nbformat": 4,
  "nbformat_minor": 0
}